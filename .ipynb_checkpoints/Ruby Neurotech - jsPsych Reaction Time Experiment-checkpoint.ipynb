{
 "cells": [
  {
   "cell_type": "markdown",
   "metadata": {},
   "source": [
    "blue vs orange avg reaction times \n",
    "accuracy vs avg reaction time "
   ]
  },
  {
   "cell_type": "code",
   "execution_count": 20,
   "metadata": {},
   "outputs": [],
   "source": [
    "import pandas as pd\n",
    "import numpy as np\n",
    "%matplotlib inline\n",
    "import matplotlib.pyplot as plt"
   ]
  },
  {
   "cell_type": "code",
   "execution_count": 31,
   "metadata": {},
   "outputs": [],
   "source": [
    "path_base = 'data/trial_'\n",
    "num_trials = 10\n",
    "agg_data = []\n",
    "for file_num in range(1,num_trials+1):\n",
    "    path = path_base + str(file_num) + '.csv'\n",
    "    data = pd.read_csv(path, header=0)\n",
    "    response_data = data[data['task'] == 'response']\n",
    "    response_data = response_data.loc[:,['time_elapsed','rt','stimulus','response','correct']]\n",
    "    agg_data.append(response_data)\n",
    "  \n",
    "    "
   ]
  },
  {
   "cell_type": "code",
   "execution_count": 30,
   "metadata": {},
   "outputs": [
    {
     "name": "stdout",
     "output_type": "stream",
     "text": [
      "10\n"
     ]
    }
   ],
   "source": [
    "def get_rts(data, color_sensitive = False):\n",
    "    return \n",
    "\n",
    "\n",
    "# reaction times over time (w error bars)\n",
    "rts = []\n",
    "for i in range(num_trials):\n",
    "    data = agg_data[i]\n",
    "    rts[i,:] = np.asarray(data.loc[:,'rt'])\n",
    "\n",
    "\n",
    "\n",
    "# true vs false avg rxn time (w error bars )\n",
    "\n",
    "# reaction times for orange vs blue\n",
    "\n"
   ]
  },
  {
   "cell_type": "code",
   "execution_count": 34,
   "metadata": {},
   "outputs": [
    {
     "name": "stdout",
     "output_type": "stream",
     "text": [
      "[334. 443. 401. 411. 443. 282. 283. 442. 586. 431.]\n"
     ]
    }
   ],
   "source": [
    "print(np.asarray(agg_data[0].loc[:,'rt']))"
   ]
  }
 ],
 "metadata": {
  "kernelspec": {
   "display_name": "Python 3",
   "language": "python",
   "name": "python3"
  },
  "language_info": {
   "codemirror_mode": {
    "name": "ipython",
    "version": 3
   },
   "file_extension": ".py",
   "mimetype": "text/x-python",
   "name": "python",
   "nbconvert_exporter": "python",
   "pygments_lexer": "ipython3",
   "version": "3.8.5"
  }
 },
 "nbformat": 4,
 "nbformat_minor": 4
}
